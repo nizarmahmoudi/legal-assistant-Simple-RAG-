{
  "nbformat": 4,
  "nbformat_minor": 0,
  "metadata": {
    "colab": {
      "provenance": [],
      "collapsed_sections": [
        "qHaIDPqmy1Rv",
        "oRT44tksz1m_",
        "SHtQjuH60aU_",
        "rt9JUn7Z0gL2",
        "shc8195Y0rKW",
        "ETqUG-Gk1fSH",
        "rqbyb-Fb1ro3"
      ],
      "gpuType": "T4",
      "authorship_tag": "ABX9TyNt4oJ7UklVJ15IA3FK+CaK",
      "include_colab_link": true
    },
    "kernelspec": {
      "name": "python3",
      "display_name": "Python 3"
    },
    "language_info": {
      "name": "python"
    },
    "accelerator": "GPU",
    "widgets": {
      "application/vnd.jupyter.widget-state+json": {
        "84161b3edd6e4b369d0cdcb5c7c95383": {
          "model_module": "@jupyter-widgets/controls",
          "model_name": "HBoxModel",
          "model_module_version": "1.5.0",
          "state": {
            "_dom_classes": [],
            "_model_module": "@jupyter-widgets/controls",
            "_model_module_version": "1.5.0",
            "_model_name": "HBoxModel",
            "_view_count": null,
            "_view_module": "@jupyter-widgets/controls",
            "_view_module_version": "1.5.0",
            "_view_name": "HBoxView",
            "box_style": "",
            "children": [
              "IPY_MODEL_99fc1f6ac10c47e097e4b533c91888f7",
              "IPY_MODEL_4e7bce7cc96d42329b41c18f478edcdb",
              "IPY_MODEL_461fa376d9a64c84b0acfa9160335e41"
            ],
            "layout": "IPY_MODEL_fcd422f14b7b4217b01fc78a53b07415"
          }
        },
        "99fc1f6ac10c47e097e4b533c91888f7": {
          "model_module": "@jupyter-widgets/controls",
          "model_name": "HTMLModel",
          "model_module_version": "1.5.0",
          "state": {
            "_dom_classes": [],
            "_model_module": "@jupyter-widgets/controls",
            "_model_module_version": "1.5.0",
            "_model_name": "HTMLModel",
            "_view_count": null,
            "_view_module": "@jupyter-widgets/controls",
            "_view_module_version": "1.5.0",
            "_view_name": "HTMLView",
            "description": "",
            "description_tooltip": null,
            "layout": "IPY_MODEL_49e90e1d6b324962b9d2548c1fcfd664",
            "placeholder": "​",
            "style": "IPY_MODEL_c399eeb8934a4cbf828701ec30f2ac30",
            "value": "Loading checkpoint shards: 100%"
          }
        },
        "4e7bce7cc96d42329b41c18f478edcdb": {
          "model_module": "@jupyter-widgets/controls",
          "model_name": "FloatProgressModel",
          "model_module_version": "1.5.0",
          "state": {
            "_dom_classes": [],
            "_model_module": "@jupyter-widgets/controls",
            "_model_module_version": "1.5.0",
            "_model_name": "FloatProgressModel",
            "_view_count": null,
            "_view_module": "@jupyter-widgets/controls",
            "_view_module_version": "1.5.0",
            "_view_name": "ProgressView",
            "bar_style": "success",
            "description": "",
            "description_tooltip": null,
            "layout": "IPY_MODEL_159ae41f77964601a99f36d44a15466b",
            "max": 2,
            "min": 0,
            "orientation": "horizontal",
            "style": "IPY_MODEL_8c3c912fe95244fbb7ff34f0c3defedd",
            "value": 2
          }
        },
        "461fa376d9a64c84b0acfa9160335e41": {
          "model_module": "@jupyter-widgets/controls",
          "model_name": "HTMLModel",
          "model_module_version": "1.5.0",
          "state": {
            "_dom_classes": [],
            "_model_module": "@jupyter-widgets/controls",
            "_model_module_version": "1.5.0",
            "_model_name": "HTMLModel",
            "_view_count": null,
            "_view_module": "@jupyter-widgets/controls",
            "_view_module_version": "1.5.0",
            "_view_name": "HTMLView",
            "description": "",
            "description_tooltip": null,
            "layout": "IPY_MODEL_ddec3e129297433e98e5954065fe76c6",
            "placeholder": "​",
            "style": "IPY_MODEL_4cf851ee009a4ee19613ebb170d15018",
            "value": " 2/2 [01:19&lt;00:00, 36.88s/it]"
          }
        },
        "fcd422f14b7b4217b01fc78a53b07415": {
          "model_module": "@jupyter-widgets/base",
          "model_name": "LayoutModel",
          "model_module_version": "1.2.0",
          "state": {
            "_model_module": "@jupyter-widgets/base",
            "_model_module_version": "1.2.0",
            "_model_name": "LayoutModel",
            "_view_count": null,
            "_view_module": "@jupyter-widgets/base",
            "_view_module_version": "1.2.0",
            "_view_name": "LayoutView",
            "align_content": null,
            "align_items": null,
            "align_self": null,
            "border": null,
            "bottom": null,
            "display": null,
            "flex": null,
            "flex_flow": null,
            "grid_area": null,
            "grid_auto_columns": null,
            "grid_auto_flow": null,
            "grid_auto_rows": null,
            "grid_column": null,
            "grid_gap": null,
            "grid_row": null,
            "grid_template_areas": null,
            "grid_template_columns": null,
            "grid_template_rows": null,
            "height": null,
            "justify_content": null,
            "justify_items": null,
            "left": null,
            "margin": null,
            "max_height": null,
            "max_width": null,
            "min_height": null,
            "min_width": null,
            "object_fit": null,
            "object_position": null,
            "order": null,
            "overflow": null,
            "overflow_x": null,
            "overflow_y": null,
            "padding": null,
            "right": null,
            "top": null,
            "visibility": null,
            "width": null
          }
        },
        "49e90e1d6b324962b9d2548c1fcfd664": {
          "model_module": "@jupyter-widgets/base",
          "model_name": "LayoutModel",
          "model_module_version": "1.2.0",
          "state": {
            "_model_module": "@jupyter-widgets/base",
            "_model_module_version": "1.2.0",
            "_model_name": "LayoutModel",
            "_view_count": null,
            "_view_module": "@jupyter-widgets/base",
            "_view_module_version": "1.2.0",
            "_view_name": "LayoutView",
            "align_content": null,
            "align_items": null,
            "align_self": null,
            "border": null,
            "bottom": null,
            "display": null,
            "flex": null,
            "flex_flow": null,
            "grid_area": null,
            "grid_auto_columns": null,
            "grid_auto_flow": null,
            "grid_auto_rows": null,
            "grid_column": null,
            "grid_gap": null,
            "grid_row": null,
            "grid_template_areas": null,
            "grid_template_columns": null,
            "grid_template_rows": null,
            "height": null,
            "justify_content": null,
            "justify_items": null,
            "left": null,
            "margin": null,
            "max_height": null,
            "max_width": null,
            "min_height": null,
            "min_width": null,
            "object_fit": null,
            "object_position": null,
            "order": null,
            "overflow": null,
            "overflow_x": null,
            "overflow_y": null,
            "padding": null,
            "right": null,
            "top": null,
            "visibility": null,
            "width": null
          }
        },
        "c399eeb8934a4cbf828701ec30f2ac30": {
          "model_module": "@jupyter-widgets/controls",
          "model_name": "DescriptionStyleModel",
          "model_module_version": "1.5.0",
          "state": {
            "_model_module": "@jupyter-widgets/controls",
            "_model_module_version": "1.5.0",
            "_model_name": "DescriptionStyleModel",
            "_view_count": null,
            "_view_module": "@jupyter-widgets/base",
            "_view_module_version": "1.2.0",
            "_view_name": "StyleView",
            "description_width": ""
          }
        },
        "159ae41f77964601a99f36d44a15466b": {
          "model_module": "@jupyter-widgets/base",
          "model_name": "LayoutModel",
          "model_module_version": "1.2.0",
          "state": {
            "_model_module": "@jupyter-widgets/base",
            "_model_module_version": "1.2.0",
            "_model_name": "LayoutModel",
            "_view_count": null,
            "_view_module": "@jupyter-widgets/base",
            "_view_module_version": "1.2.0",
            "_view_name": "LayoutView",
            "align_content": null,
            "align_items": null,
            "align_self": null,
            "border": null,
            "bottom": null,
            "display": null,
            "flex": null,
            "flex_flow": null,
            "grid_area": null,
            "grid_auto_columns": null,
            "grid_auto_flow": null,
            "grid_auto_rows": null,
            "grid_column": null,
            "grid_gap": null,
            "grid_row": null,
            "grid_template_areas": null,
            "grid_template_columns": null,
            "grid_template_rows": null,
            "height": null,
            "justify_content": null,
            "justify_items": null,
            "left": null,
            "margin": null,
            "max_height": null,
            "max_width": null,
            "min_height": null,
            "min_width": null,
            "object_fit": null,
            "object_position": null,
            "order": null,
            "overflow": null,
            "overflow_x": null,
            "overflow_y": null,
            "padding": null,
            "right": null,
            "top": null,
            "visibility": null,
            "width": null
          }
        },
        "8c3c912fe95244fbb7ff34f0c3defedd": {
          "model_module": "@jupyter-widgets/controls",
          "model_name": "ProgressStyleModel",
          "model_module_version": "1.5.0",
          "state": {
            "_model_module": "@jupyter-widgets/controls",
            "_model_module_version": "1.5.0",
            "_model_name": "ProgressStyleModel",
            "_view_count": null,
            "_view_module": "@jupyter-widgets/base",
            "_view_module_version": "1.2.0",
            "_view_name": "StyleView",
            "bar_color": null,
            "description_width": ""
          }
        },
        "ddec3e129297433e98e5954065fe76c6": {
          "model_module": "@jupyter-widgets/base",
          "model_name": "LayoutModel",
          "model_module_version": "1.2.0",
          "state": {
            "_model_module": "@jupyter-widgets/base",
            "_model_module_version": "1.2.0",
            "_model_name": "LayoutModel",
            "_view_count": null,
            "_view_module": "@jupyter-widgets/base",
            "_view_module_version": "1.2.0",
            "_view_name": "LayoutView",
            "align_content": null,
            "align_items": null,
            "align_self": null,
            "border": null,
            "bottom": null,
            "display": null,
            "flex": null,
            "flex_flow": null,
            "grid_area": null,
            "grid_auto_columns": null,
            "grid_auto_flow": null,
            "grid_auto_rows": null,
            "grid_column": null,
            "grid_gap": null,
            "grid_row": null,
            "grid_template_areas": null,
            "grid_template_columns": null,
            "grid_template_rows": null,
            "height": null,
            "justify_content": null,
            "justify_items": null,
            "left": null,
            "margin": null,
            "max_height": null,
            "max_width": null,
            "min_height": null,
            "min_width": null,
            "object_fit": null,
            "object_position": null,
            "order": null,
            "overflow": null,
            "overflow_x": null,
            "overflow_y": null,
            "padding": null,
            "right": null,
            "top": null,
            "visibility": null,
            "width": null
          }
        },
        "4cf851ee009a4ee19613ebb170d15018": {
          "model_module": "@jupyter-widgets/controls",
          "model_name": "DescriptionStyleModel",
          "model_module_version": "1.5.0",
          "state": {
            "_model_module": "@jupyter-widgets/controls",
            "_model_module_version": "1.5.0",
            "_model_name": "DescriptionStyleModel",
            "_view_count": null,
            "_view_module": "@jupyter-widgets/base",
            "_view_module_version": "1.2.0",
            "_view_name": "StyleView",
            "description_width": ""
          }
        }
      }
    }
  },
  "cells": [
    {
      "cell_type": "markdown",
      "metadata": {
        "id": "view-in-github",
        "colab_type": "text"
      },
      "source": [
        "<a href=\"https://colab.research.google.com/github/nizarmahmoudi/legal-assistant-Simple-RAG-/blob/main/Simple_RAG_Demo.ipynb\" target=\"_parent\"><img src=\"https://colab.research.google.com/assets/colab-badge.svg\" alt=\"Open In Colab\"/></a>"
      ]
    },
    {
      "cell_type": "markdown",
      "source": [
        "# 1. Installation and Setup"
      ],
      "metadata": {
        "id": "qHaIDPqmy1Rv"
      }
    },
    {
      "cell_type": "code",
      "execution_count": 1,
      "metadata": {
        "colab": {
          "base_uri": "https://localhost:8080/"
        },
        "id": "17iZ3ZRcnP1z",
        "outputId": "b9551878-eb37-4f9a-9107-1ae7eb0f2060"
      },
      "outputs": [
        {
          "output_type": "stream",
          "name": "stdout",
          "text": [
            "Sat Dec 28 15:50:56 2024       \n",
            "+---------------------------------------------------------------------------------------+\n",
            "| NVIDIA-SMI 535.104.05             Driver Version: 535.104.05   CUDA Version: 12.2     |\n",
            "|-----------------------------------------+----------------------+----------------------+\n",
            "| GPU  Name                 Persistence-M | Bus-Id        Disp.A | Volatile Uncorr. ECC |\n",
            "| Fan  Temp   Perf          Pwr:Usage/Cap |         Memory-Usage | GPU-Util  Compute M. |\n",
            "|                                         |                      |               MIG M. |\n",
            "|=========================================+======================+======================|\n",
            "|   0  Tesla T4                       Off | 00000000:00:04.0 Off |                    0 |\n",
            "| N/A   42C    P8               9W /  70W |      0MiB / 15360MiB |      0%      Default |\n",
            "|                                         |                      |                  N/A |\n",
            "+-----------------------------------------+----------------------+----------------------+\n",
            "                                                                                         \n",
            "+---------------------------------------------------------------------------------------+\n",
            "| Processes:                                                                            |\n",
            "|  GPU   GI   CI        PID   Type   Process name                            GPU Memory |\n",
            "|        ID   ID                                                             Usage      |\n",
            "|=======================================================================================|\n",
            "|  No running processes found                                                           |\n",
            "+---------------------------------------------------------------------------------------+\n"
          ]
        }
      ],
      "source": [
        "!nvidia-smi"
      ]
    },
    {
      "cell_type": "code",
      "source": [
        "!pip install pypdf\n",
        "!pip install -q transformers einops accelerate langchain bitsandbytes\n",
        "!pip install sentence_transformers\n",
        "!pip install llama-index==0.9.39\n",
        "!pip install -U langchain-community"
      ],
      "metadata": {
        "colab": {
          "base_uri": "https://localhost:8080/"
        },
        "id": "-F-oDNYDnrpl",
        "outputId": "1abd8b87-b0eb-4cf7-e6eb-80e50f925b28"
      },
      "execution_count": 2,
      "outputs": [
        {
          "output_type": "stream",
          "name": "stdout",
          "text": [
            "Requirement already satisfied: pypdf in /usr/local/lib/python3.10/dist-packages (5.1.0)\n",
            "Requirement already satisfied: typing_extensions>=4.0 in /usr/local/lib/python3.10/dist-packages (from pypdf) (4.12.2)\n"
          ]
        }
      ]
    },
    {
      "cell_type": "markdown",
      "source": [
        "# 2. Data Preparation"
      ],
      "metadata": {
        "id": "oRT44tksz1m_"
      }
    },
    {
      "cell_type": "code",
      "source": [
        "import os\n",
        "from llama_index import VectorStoreIndex, SimpleDirectoryReader, ServiceContext\n",
        "from llama_index.llms import HuggingFaceLLM\n",
        "from llama_index.prompts.prompts import SimpleInputPrompt"
      ],
      "metadata": {
        "id": "dtKFVEM2rKJ1"
      },
      "execution_count": 6,
      "outputs": []
    },
    {
      "cell_type": "markdown",
      "source": [
        "Create data directory\n",
        ""
      ],
      "metadata": {
        "id": "m2VSGDS-0A4t"
      }
    },
    {
      "cell_type": "code",
      "source": [
        "!mkdir data"
      ],
      "metadata": {
        "id": "rV56qtuNsMGn"
      },
      "execution_count": 8,
      "outputs": []
    },
    {
      "cell_type": "markdown",
      "source": [
        "Load documents from the directory"
      ],
      "metadata": {
        "id": "1Rw0N0Jn0S3e"
      }
    },
    {
      "cell_type": "code",
      "source": [
        "documents = SimpleDirectoryReader(\"/content/data\").load_data()"
      ],
      "metadata": {
        "id": "xhR79cuosXl7"
      },
      "execution_count": 7,
      "outputs": []
    },
    {
      "cell_type": "code",
      "source": [
        "documents"
      ],
      "metadata": {
        "colab": {
          "base_uri": "https://localhost:8080/"
        },
        "id": "om6eJLGbtPCq",
        "outputId": "16b532e0-d248-41c9-b05c-58a857fab28a"
      },
      "execution_count": 8,
      "outputs": [
        {
          "output_type": "execute_result",
          "data": {
            "text/plain": [
              "[Document(id_='83752255-6700-41d3-bc37-0f369281da5a', embedding=None, metadata={'page_label': '1', 'file_name': 'L_exercice_du_commerce_par_des_etrangers_en_Tunisie.pdf', 'file_path': '/content/data/L_exercice_du_commerce_par_des_etrangers_en_Tunisie.pdf', 'file_type': 'application/pdf', 'file_size': 121197, 'creation_date': '2024-12-28', 'last_modified_date': '2024-12-28', 'last_accessed_date': '2024-12-28'}, excluded_embed_metadata_keys=['file_name', 'file_type', 'file_size', 'creation_date', 'last_modified_date', 'last_accessed_date'], excluded_llm_metadata_keys=['file_name', 'file_type', 'file_size', 'creation_date', 'last_modified_date', 'last_accessed_date'], relationships={}, text=' 1  \\n \\nL’exercice du commerce par les étrangers en Tunisie  \\n \\n \\n        Par Mahmoud Anis BETTAIEB \\n \\n \\nDans le passé, le commerçant pouvait se \\ndéplacer librement et exercer son activité ou \\nbon lui semblait.  C’est grâce à cette mobilité et \\nnotamment à l’existence des foires médiévales \\nde Venise, Florence et Gêne ainsi qu’aux routes \\nde la soie et des épices que le droit commercial \\navait pu voir le jour.    \\n \\nPar la suite, le commerce s’est petit à petit \\ndéveloppé, profitant de l’internationalisation de \\nplus en plus croissantes et des progrès \\ntechnologiques qui ont permis l’accroissement \\net la facilitation des échanges. \\n \\nLe brassage de civilisations et l’échange entre \\ncommerçants qu’à contribuer à réaliser le \\nprogrès technique, n’a pas toujours été libre. \\nPresque tous les Etats gardent jalousement \\nl’activité commerciale réservée à leurs \\nnationaux.  \\n \\nEn Tunisie, l’histoire des commerçants \\nétrangers est une histoire douloureuse. Les \\ncommerçant étrangers avaient pu à un certain \\ntemps bénéficiés d’avantages excessifs et de \\nfaveurs des Princes et des Régents, ce qui leur \\napportait les foudres des commerçants \\nnationaux \\n1. \\n \\nLors du protectorat, les commerçants étrangers \\nont continué de jouir de privilèges tout aussi \\nexcessifs et les commerçants nationaux étaient \\nlésés. \\n \\nCette situation et surtout ce sentiment, ont \\nconduit le législateur tunisien, et cela dés \\nl’indépendance à vouloir réglementer l’activité \\ndes étrangers en Tunisie par des étrangers. \\n \\nEt c’est à cette époque, qu’ont été promulgués \\ndes lois nationalisant les terres, expropriant les \\nbiens productifs, et réglementant fortement \\nl’exercice de l’activité commerciale.  \\n \\nAinsi le décret loi du 30 août 1961 a réglementé \\nl’activité commerciale en la restreignant \\nfortement pour les étrangers. (P.1) L’exercice par \\nun étranger sans le respect de certaines \\nexigences entraînant des sanctions (P.2) \\n \\n \\n                                                 \\n1  Ahmed Ibn Ebi Eddhiaf, Ethaf ahl ezzamen bi akhbar  moulouki \\ntounes fi hahd el amen, Dar Tousnisa Lennachr Editi ons, 2e \\nEdition, Par R. Marzouki, Tunis 1989, Vol. 5, p.110.  \\nParagraphe premier : Les restrictions à \\nl’exercice du commerce par les étrangers \\n \\nLe décret loi de 1961 distingue entre deux \\ncatégories d’activités commerciales. Celles qui \\nsont interdites sauf dérogation spéciale (I), et les \\nactivités restreintes dont l’exercice est tributaire \\nde l’obtention de la carte de commerçant  (II).   \\n \\nI. L’interdiction d’exercer certaines activités \\ncommerciales \\n \\nCertaines activités commerciales sont \\ntotalement interdites aux entreprises étrangères \\nquel qu’en soit leur forme.  \\n \\nL’article 8 du décret loi de 1961 prévoit que «   \\nl’exercice des activités suivantes, sous quelques \\nformes que ce soit, et quel que soit le mode leur \\nimposition (patente, impôt sur les traitements et \\nsalaires, impôt sur les bénéficies des professions \\nnon commerciales) et sauf dérogation accordée \\npar le Secrétaire d’Etat au Plan et aux Finances, \\ninterdit aux personnes physiques ou morales, ne \\npossédant pas la nationalité tunisienne : \\n \\n1.  Gérant d’immeubles \\n2.  Commissionnaire, courtier, agent commercial \\n3.  Agent général ou spécial des entreprises \\nd’assurances  \\n4.  Concessionnaire, consignataire, représentant \\ngénéral, agent général ou de vente, quelle que \\nsoit la dénomination sous laquelle s’exerce cette \\nactivité ; \\n5.  Voyageur, placier, représentant de commerce. \\n \\nL’exercice des activités prévues à l’alinéa \\nprécédent par des personnes physiques ou \\nmorales tunisiennes est soumise à l’agrément du \\nSecrétaire d’Etat au Plan et aux Finances dans \\nles conditions prévues à l’article 10 ci après » \\n \\nL’article 8 prévoit donc une liste indicative \\nd’activités fermées aux étrangers. Le seul moyen \\nd’exercer l’une ou l’autre de ces activités est \\nl’obtention d’une dérogation accordée par le \\nSecrétaire d’Etat à l’économie et aux Finances. \\n \\nD’ailleurs, le décret loi a également fortement \\nréglementé l’exercice de ces activités pour les \\npersonnes tunisiennes puisqu’il prévoit que leur \\nexercice est soumis à un agrément. \\n \\nLes raison de ces restrictions nous pouvons les \\ndevinés. En effet, toutes les activités énumérées ', start_char_idx=None, end_char_idx=None, text_template='{metadata_str}\\n\\n{content}', metadata_template='{key}: {value}', metadata_seperator='\\n'),\n",
              " Document(id_='aa64b184-7aea-4925-b839-9b442bb823fa', embedding=None, metadata={'page_label': '2', 'file_name': 'L_exercice_du_commerce_par_des_etrangers_en_Tunisie.pdf', 'file_path': '/content/data/L_exercice_du_commerce_par_des_etrangers_en_Tunisie.pdf', 'file_type': 'application/pdf', 'file_size': 121197, 'creation_date': '2024-12-28', 'last_modified_date': '2024-12-28', 'last_accessed_date': '2024-12-28'}, excluded_embed_metadata_keys=['file_name', 'file_type', 'file_size', 'creation_date', 'last_modified_date', 'last_accessed_date'], excluded_llm_metadata_keys=['file_name', 'file_type', 'file_size', 'creation_date', 'last_modified_date', 'last_accessed_date'], relationships={}, text=' 2  \\nsont des activités qui étaient considérés à \\nl’époque par le Gouvernement tunisien comme \\nimportante non seulement économiquement \\nmais aussi politiquement. \\n \\nLe jeune Etat tunisien souhaitait se libérer de la \\nmain mise des étrangers sur les activités \\nfortement capitalistiques tel que l’activité \\nd’agent d’assurance \\n2 . \\n \\nDe plus, l’Etat tunisien, conscient des \\npossibilités de détournement de la loi par les \\nentreprises étrangères qui ne pouvait pas \\ns’établir directement sur le territoire, a \\nfortement réglementé certaines activités \\ncommerciales tel que l’activité de \\nconcessionnaire ou d’agent commercial. \\n \\nII. L’obligation d’obtention de la carte de \\ncommerçant \\n \\nLa carte professionnelle de commerçant, \\nmatérialise l’autorisation administrative délivrée \\nau postulant pour l’exercice d’une activité \\nprofessionnelle \\n3 . Toute personne étrangère qui \\nsouhaite exercer le commerce en Tunisie devra \\nau préalable obtenir cette autorisation. \\n \\nA cet effet, le commerçant étranger devra \\nremplir un certain nombre de conditions \\nprévues par les dispositions du Décret-loi du 30 \\naoût 1961, relatif aux conditions d’exercice de \\ncertaines activités commerciales. \\n \\nEt il revient à l’administration nationale \\ncompétente d’examiner les conditions et de \\ndécider souverainement de la délivrance ou du \\nrefus de la délivrance de cette carte.  \\n \\nIl faut dire que les conditions d’obtention de la \\ncarte de commerçant ne sont pas explicites ni \\ndans le décret-loi ni dans les textes \\nd’applications. Et il faut se référer à la pratique \\nadministrative pour se rendre compte que les \\néléments d’appréciation qui peuvent être \\nretenus portent essentiellement sur les \\ngaranties morales et professionnelles du \\ndemandeur, sur ses attaches avec le pays dans \\nlequel il demande l’obtention de ladite carte, \\n                                                 \\n2  Il faut préciser que l’article 50 bis du code de c ommerce prévoit \\nque «  l’octroi de l’agrément à des entreprises étr angères n’est \\npas subordonné à l’obtention de la carte de commerç ant prévue \\npar le décret loi n° 61-14 du 30 août 1961 relatif aux conditions \\nd’exercice de certaines activités commerciales. \\nPour l’exercice des professions d’intermédiaire en assurance, le \\ncode des assurance précise dans son article 73 que «  la carte \\nprofessionnelle ne peut être accordée à la personne  physique que \\nsi elle remplit les conditions suivantes : \\n1.  être de nationalité tunisienne \\n(…) » \\n3  FRIKHA (S), L’accès des personnes physiques de nati onalité \\nétrangère aux droits économiques, mémoire de D.E.A. , FDSPT, \\nTunis, 1985, p.20. \\nmais aussi sur d’autres considérations d’ordre \\néconomique local ou régional \\n4 . \\n \\nL’exercice du commerce par un étranger est \\ndonc interdit en Tunisie sauf à avoir au \\npréalable obtenu une carte professionnelle \\npermettant son exercice, la carte de \\ncommerçant.   \\n \\nCertaines personnes étrangères sont soumises à \\nl’obligation de l’obtention de la dite carte pour \\npouvoir prétendre à l’exercice du commerce (1). \\nLa délivrance de la carte est soumise à la \\nsatisfaction de certaines conditions prévues par \\nla législation tunisienne (2). \\n \\n1.  Les personnes soumises à l’obligation de \\ndétention de la carte de commerçant \\n \\nL’article deux du décret-loi de 1961 prévoit que : \\n«  Les personnes physiques et morales, qui ne \\npossèdent pas la nationalité tunisienne, ne \\npeuvent exercer directement ou indirectement \\nune activité commerciale que dans les conditions \\ndéfinies par les textes en vigueur et les \\ndispositions du présent décret-loi. » \\n \\nLe principe est donc l’interdiction pour les \\nétrangers d’exercer le commerce en Tunisie sauf \\nà obtenir la carte. Sont donc soumis à cette \\nobligation au même titre, les personnes \\nphysiques et morales étrangères \\n5.  \\n \\nLa définition de la nationalité de la personne \\nphysique ne pose pas de problème particulier. \\nReste à savoir selon quel critère est définie la \\npersonne étrangère, personne morale.  \\n \\nLa définition de la nationalité de la personne \\nmorale est prévue par le décret-loi de 1961 qui \\nprévoit une définition de la personne morale \\nétrangère en fonction de plusieurs critères \\ncumulatifs. A savoir les critère du contrôle, de \\nla gestion, du lieu d’incorporation …\\n6  \\n                                                 \\n4  V. Mayer. P., droit international privé, Paris, Mo ntchrestien, 3 e  \\nédition, 1987, p.577. \\n5  La législation algérienne ne soumet pas les person nes physiques \\nen tant que telles à l’obligation de la carte de co mmerçant. Ils ne \\nsont soumis qu’aux formalités d’usage dont notammen t \\nl’immatriculation au registre de commerce. \\n \\nLes personnes physiques représentant des personnes morales \\nétrangères doivent quant à eux obtenir la carte de commerçant. Et \\nc’est précisément les membres étrangers des conseil s \\nd’administration et de conseil de surveillance des sociétés \\ncommerciales et des organes de gestion et d’adminis tration dont \\nils assument statutairement la gestion ou l’adminis tration. Article \\n1\\ne  du décret exécutif n° 97-38 du 18 janvier 1997 por tant \\nmodalités d’attribution de la carte de commerçant a ux \\nreprésentants étrangers des sociétés commerciales. \\n6  L’article 3 du décret loi de 1961 prévoit que « Le s personnes \\nmorales ont la nationalité tunisienne lorsqu’elles répondent à \\nl’ensemble des conditions suivantes : \\n- être constitués conformément aux lois en vigueur et voir leur \\nsiège social en Tunisie ', start_char_idx=None, end_char_idx=None, text_template='{metadata_str}\\n\\n{content}', metadata_template='{key}: {value}', metadata_seperator='\\n'),\n",
              " Document(id_='d5853569-de32-43e9-8da4-f0f206713961', embedding=None, metadata={'page_label': '3', 'file_name': 'L_exercice_du_commerce_par_des_etrangers_en_Tunisie.pdf', 'file_path': '/content/data/L_exercice_du_commerce_par_des_etrangers_en_Tunisie.pdf', 'file_type': 'application/pdf', 'file_size': 121197, 'creation_date': '2024-12-28', 'last_modified_date': '2024-12-28', 'last_accessed_date': '2024-12-28'}, excluded_embed_metadata_keys=['file_name', 'file_type', 'file_size', 'creation_date', 'last_modified_date', 'last_accessed_date'], excluded_llm_metadata_keys=['file_name', 'file_type', 'file_size', 'creation_date', 'last_modified_date', 'last_accessed_date'], relationships={}, text=\" 3  \\n \\nL’entreprise étrangère serait donc celle ou l’un \\ndes critères ne serait pas acquis.  A l’examen de \\nces critères on se rend compte de la difficulté \\npour une entreprise d’être considéré comme \\nnationale.  \\n \\nEn effet, pour qu’une entreprise ne soit pas \\nconsidéré comme étrangère et donc presque \\ninterdite de l’exercice du commerce, il faudrait \\nqu’elle soit contrôlée à 51% par des personnes \\nphysiques ou morales tunisiennes, que son \\ngérant ou son organe de gestion soit de \\nnationalité tunisienne, et que son siège sociale \\nse trouve en Tunisie.  \\n \\nCes conditions sont draconiennes. Les \\nlégislations comparées prévoient en général un \\ncritère unique pour la définition. Le recours à \\nplusieurs critères (siège sociale, contrôle et \\nincorporation) va dans le sens d’une volonté \\nd’interdiction manifeste. \\n \\nSi une entreprise ne satisfait pas à ces \\nconditions, elle est considéré comme étrangère \\net devra par conséquent se conformer aux \\nprescriptions du décret-loi de 1961.   \\n \\nIl est utile de rappeler que certaines personnes, \\nconsidérées comme étrangères selon les critères \\ncités, ne le sont pas d’après les dispositions de \\nl’article 4 du même décret puisque les sociétés \\nd’économie mixte, les sociétés ou l’Etat ou les \\ncollectivités locales possèdent une participation, \\nmême minoritaire au capital est considéré \\ncomme nationale et peut donc exercer le \\ncommerce \\n7.  \\n \\nCette volonté de privilégié les entreprises ou \\nl’Etat possède une participation a permis à \\ncertains auteurs de parler de souplesse dans le \\ntraitement des entreprises d’économie mixte. Le \\nProfesseur Nadhir BEN AMMOU a notamment \\nécrit qu’«   a la rigueur dans l’attribution de la \\nnationalité aux sociétés privées correspond une \\ngrande souplesse lorsqu’il s’agit des sociétés \\nd’économie mixte. Dans l’esprit du décret-loi de \\n                                                                                 \\n- Avoir leur capital représenté à concurrence de 50 % au moins \\npar des titres nominatifs détenus par des personnes  physiques de \\nnationalité tunisienne, \\n- avoir leur conseil d’administration, de gérance o u de \\nsurveillance constitué en majorité par des personne s physiques de \\nnationalité tunisienne ; \\n- avoir leur direction générale ou leur gérance ass umée par des \\npersonnes physiques de nationalité tunisiennes. \\nSont en outre tunisiennes les sociétés ayant leur s iège social en \\nTunisie et dans lesquelles l’Etat ou les collectivi tés publiques \\nlocales détiennent directement ou indirectement une  participation \\nen capital. » \\nV. Chapitre préliminaire  \\n7  Article 3 parag 4 du décret loi de 1961 «  (…) Son t en outre \\ntunisiennes les sociétés ayant leur siége social en  Tunisie et dans \\nlesquelles l’Etat ou les collectivités publiques lo cales détiennent \\ndirectement ou indirectement une participation en c apital. » \\n1961, toutes les sociétés d’économie mixte sont \\ntunisienne sauf preuve contraire \\n8 » \\n   \\nDe plus l’article 2 du décret-loi de 1961, interdit \\nl’exercice du commerce, d’une façon directe et \\nindirecte sans plus de précisions sur la notion \\nd’exercice indirecte du commerce.  \\n \\nEn France, une circulaire du 8 juin 1998 \\nénumère les étrangers soumis à la carte de \\ncommerçant. Il s’agit des : \\n \\n- associés tenus indéfiniment et solidairement \\ndes dettes sociales, à savoir les associés d’une \\nsociété en nom collectif et les commandités \\nd’une société en commandite simple ou par \\nactions ; \\n- Les associés et les tiers ayant le pouvoir de \\ndiriger, gérer ou le pouvoir général d’engager à \\ntitre habituel la personne morale. \\n \\nEntrent aussi dans cette catégorie, le gérant \\nd’une société en nom collectif, d’une SCS ou \\nSCA ou d’une SARL, le président du conseil \\nd’administration, le président du directoire ainsi \\nque les directeurs généraux d’une SA, le \\nprésident d’une SAS. \\n \\nPar ailleurs, la circulaire du 8 juin 1988 soumet \\nl’associé unique d’une EURL à l’obligation de \\ndétenir la carte de commerçant, mais seulement \\nou il exercerait personnellement la gérance. Au \\ncas où il nommerait un autre gérant, c’est ce \\ndernier qui devrait l’obtenir. \\n \\nIl en est de même pour les personnes physiques \\nayant le pouvoir d’engager une personne morale \\nde droit étranger au titre d’un établissement, \\nd’une succursale ou d’une représentation \\ncommerciale. \\n \\nEnfin, sont aussi soumis à cette obligation, les \\nreprésentants commerciaux, qu’ils agissent en \\nnom propre ou comme représentant de la \\nsociété (article 5) \\n9  \\n \\nL’exercice indirecte du commerce serait donc \\nl’exercice par personne ou entité interposé.  \\n \\nAinsi, les associés d’une société en nom collectif \\nsont considérés comme commerçant dans la \\nlégislation tunisienne, et il est donc interdit aux \\npersonnes étrangères d’être associés d’une \\nsociété en nom collectif \\n10 .  \\n                                                 \\n8  N. BEN AMMOU, Le commerçant étranger, in l’étranger dans \\ntous ses états , colloque de Tunis, 28 février 2005. \\n9  V. BEJINARIU (A), POLNE (I), « Les nouvelles règles en \\nmatière de carte d’identité de commerçant étranger », Bulletin \\nJOLY , novembre 1998, p.1138-1143. \\n10  Article 55 du code des sociétés commerciales «  Le s associés \\nen nom collectif ont la qualité de commerçant ; tou tefois, les \\ncréanciers de la société ne peuvent poursuivre l'as socié en \\npaiement des dettes sociales que quinze jours après  l'avoir mis en \\ndemeure. \\nLes associés faisant partie de la société au moment  où \", start_char_idx=None, end_char_idx=None, text_template='{metadata_str}\\n\\n{content}', metadata_template='{key}: {value}', metadata_seperator='\\n'),\n",
              " Document(id_='f237097b-aa50-4d7b-9821-611d8c366dff', embedding=None, metadata={'page_label': '4', 'file_name': 'L_exercice_du_commerce_par_des_etrangers_en_Tunisie.pdf', 'file_path': '/content/data/L_exercice_du_commerce_par_des_etrangers_en_Tunisie.pdf', 'file_type': 'application/pdf', 'file_size': 121197, 'creation_date': '2024-12-28', 'last_modified_date': '2024-12-28', 'last_accessed_date': '2024-12-28'}, excluded_embed_metadata_keys=['file_name', 'file_type', 'file_size', 'creation_date', 'last_modified_date', 'last_accessed_date'], excluded_llm_metadata_keys=['file_name', 'file_type', 'file_size', 'creation_date', 'last_modified_date', 'last_accessed_date'], relationships={}, text=\" 4  \\nLes associés d’une société en commandite \\nsimple seraient eux aussi considérés comme \\nexerçant indirectement le commerce du moment \\nqu’ils sont tenus des dettes sociales \\n11 . \\n \\nToutes les personnes considérées comme \\nétrangères devront remplir certaines conditions \\npour prétendre à la délivrance de la carte de \\ncommerçant. \\n \\n2.  Les conditions de la délivrance de la \\ncarte de commerçant \\n \\nL’objectif de la carte de commerçant étant \\nessentiellement de contrôler et de sélectionner \\nles étrangers qui peuvent être autorisés à \\nexercer tel ou tel négoce et de sauvegarder les \\nintérêts économiques du pays, l’autorité \\ncompétente ne saurait être une administration \\nloin de maîtriser ses éléments. \\n \\nGénéralement, les objectifs économiques du \\npays sont préparés au sein du ministère de \\nl’Economie et des Finances et c’est \\napparemment pour ces raisons que le choix de \\nla Tunisie a été d’accorder la compétence \\nd’examen des cartes de commerçant étranger à \\ncette même  autorité centrale qui est seule \\nchargée de l’examen de ces questions, à savoir \\nle Secrétariat d’Etat au Plan et aux Finances \\n12 . \\n \\nIl se peut aussi que le législateur considère que \\nchaque région du pays bénéficie d’une certaine \\nindépendance et a des besoins qui ne sont pas \\nforcément les mêmes pour tous les pays. Il \\nattribue dans ce cas le pouvoir d’instruction et \\nde délivrance à des autorités régionales.  \\n \\nC’est le cas en Algérie ou ce sont les autorités \\nrégionales, ceux chargés de réglementation, de \\nla Wilaya territorialement compétente qui \\nstatuent sur la délivrance ou le refus carte \\n13 . \\n                                                                                 \\nl'engagement social a été contracté sont tenus soli dairement sur \\nleurs biens propres. \\nL'action des créanciers doit être exercée dans un d élai de trois ans \\nà compter de la date d'échéance de leurs créances. » \\n11  Article 67 C.S.C « La société en commandite simple c omprend \\ndeux groupes d'associés : les commandités, qui, seu ls, peuvent \\nêtre chargés de la gestion de la société et qui rép ondent \\nsolidairement et indéfiniment des dettes sociales ;  les \\ncommanditaires, bailleurs de fonds, qui ne sont ten us qu'à \\nconcurrence de leurs apports. \\nLes associés commandités sont soumis au même régime  juridique \\nque celui auquel sont soumis les associés dans une société en \\nnom collectif. \\nLes associés commanditaires sont soumis au même rég ime \\njuridique que celui auquel sont soumis les associés  dans une \\nsociété à responsabilité limitée. \\nL'associé commanditaire ne peut faire un apport en industrie. » \\n12  Arrêté du Secrétaire d’Etat au Plan et aux Finance s du 14 \\nseptembre 1961, relatif à la carte de commerçant et  aux modalités \\nd’agrément pour l’exercice de certaines activités c ommerciales. \\n13  S’est aussi le cas de la France ou il revient aux Préfectures \\nd’examiner les demandes d’obtention de cartes de co mmerçant. \\nD’ailleurs dans le système français, il n’y a pas d issociation entre \\nles cartes de séjour et les cartes permettant l’exe rcice des \\n \\nLa carte de commerçant apparaît donc comme \\nune autorisation d’exercer le commerce délivré \\npar les autorités compétentes. Ceci dit, il est \\nutile de s’interroger sur son régime juridique du \\npoint de vue de la législation relative à l’entrée \\net au séjour des étrangers. La carte de \\ncommerçant est-elle requise en plus de la carte \\nde séjour, ou alors la carte de séjour pourrait \\nelle faire office d’autorisation de séjour et \\nd’autorisation d’exercice du commerce \\nsimultanément? \\n \\nCes interrogations trouvent leur fondement \\ndans le fait que plusieurs législations aient \\noptés pour un régime d’unicité du titre, c'est-à-\\ndire un régime dans lequel les cartes de \\ncommerçant et de séjour se confondent.  \\n \\nD’autres législations ont préférés un régime \\ndualiste dans lequel les deux cartes sont \\nrequises de l’étranger souhaitant exercer une \\nactivité commerciale. Et c’est le cas  de la \\nlégislation Tunisie ou la distinction entre les \\ndeux cartes subsiste. Il est donc nécessaire \\nd’obtenir une carte de commerçant pour exercer \\nl’activité et d’obtenir une carte de séjour pour \\npouvoir prétendre à un séjour régulier. \\n \\nLa possession d’un titre de séjour constitue \\ntoujours un préalable à la délivrance de la carte \\nde commerçant, mais la possession d’un titre de \\nséjour n’est pas synonyme de l’obtention de la \\ncarte de commerçant. \\n \\nEn réalité, il s’agit dans tous les cas de deux \\nautorisations indépendantes. La seule différence \\nréside dans le support de cette autorisation. \\nDans un cas, mention de l’autorisation de \\nséjour et d’exercice du commerce figure sur un \\nseul et unique document. Dans un autre, deux \\ndocuments distincts, deux cartes permettent de \\nprouver la régularité de la situation quant au \\nséjour et quant à l’exercice de la profession \\ncommerciale \\n14 . \\n \\nA.  Procédure d’obtention \\n \\nLa procédure d’obtention de la carte de \\ncommerçant est une procédure longue et assez \\ncomplexe. Plusieurs documents sont exigés et \\nles délais ne sont pas toujours transparents.  \\n \\n                                                                                 \\nactivités économiques. La carte de séjour prévoit l a possibilité \\nd’exercice ou pas des activités économiques. \\n14  Le système qui existe actuellement en France, la c arte \\ntemporaire délivrée à l’étranger autorisée à exerce r une activité \\nprofessionnelle en France porte la mention de cette  activité \\n(ordonnance du 2 nov. 1945, art. 17) 14  \\nMais cette unité du titre, implique seulement que l e préfet \\napprécie simultanément si les conditions du séjour et les \\nconditions d’exercice d’une activité commerciales s ont réunies. \\nIl existe des cartes dont la délivrance ouvre autom atiquement \\ndroit à la capacité d’exercice des activités commer ciales. C’est \\nnotamment le cas de carte de résident française 14 . \", start_char_idx=None, end_char_idx=None, text_template='{metadata_str}\\n\\n{content}', metadata_template='{key}: {value}', metadata_seperator='\\n'),\n",
              " Document(id_='a6802f42-6750-475c-b9bb-eaaa4a690e40', embedding=None, metadata={'page_label': '5', 'file_name': 'L_exercice_du_commerce_par_des_etrangers_en_Tunisie.pdf', 'file_path': '/content/data/L_exercice_du_commerce_par_des_etrangers_en_Tunisie.pdf', 'file_type': 'application/pdf', 'file_size': 121197, 'creation_date': '2024-12-28', 'last_modified_date': '2024-12-28', 'last_accessed_date': '2024-12-28'}, excluded_embed_metadata_keys=['file_name', 'file_type', 'file_size', 'creation_date', 'last_modified_date', 'last_accessed_date'], excluded_llm_metadata_keys=['file_name', 'file_type', 'file_size', 'creation_date', 'last_modified_date', 'last_accessed_date'], relationships={}, text=' 5  \\nCeci dit dans la pratique, les délais sont en \\ngénéral assez long, sauf pour certaines activités \\nnotamment pour les entreprises étrangères \\nbénéficiaires d’un marché avec l’Etat tunisien. \\nDans ce cas les délais sont vraiment écourtés. \\n \\nLe commerçant étranger souhaitant exercer en \\nTunisie devra déposer sa demande auprès des \\nservices compétents, accompagnés des pièces \\nrequises. \\n \\na. Dépôt de la demande \\n \\nLes demandes doivent parvenir aux autorités \\ncompétentes avec les justificatifs requis. La loi \\ntunisienne exige que la demande soit \\naccompagnée des « pièces suivantes : \\n \\n- 1° un certificat de non faillite ayant moins de \\ntrois mois de date ; \\n- 2° une déclaration d’activité dont la formule \\nest tenue à la disposition des postulants au \\nSecrétariat d’Etat au Plan et aux Finances \\nrédigée en 6 exemplaires et indiquant : \\n \\na) les noms, prénoms, domicile, nationalité du \\nou des postulants, \\nb) la qualité en laquelle le ou les déclarants \\nexercent l’activité commerciale déclarée, \\nc) l’enseigne et la raison sociale de l’entreprise. \\nd) le ou les lieux ou sont situés le siége social, \\nétablissements principaux, succursales ou \\nagences de l’entreprise  \\ne) tous renseignements relatifs à la situation du \\npostulant au regard de la législation fiscale et \\nsociale \\n- 3° d’une façon générale, tous autre \\nrenseignement jugé indispensables par le \\nSecrétariat d’Etat au Plan et aux Finances »  \\n \\nEt cette dernière exigence nous semble assez \\nvague et empreinte d’un pouvoir discrétionnaire \\nde l’administration. En effet, le Secrétaire d’Etat \\naux Plans et aux Finances peut exiger n’importe \\nquel renseignement  et peut donc refuser le \\ndossier pour insuffisance de documents. \\nAucune limite ni clarification n’est prévue dans \\nles textes. \\n \\nIl faut préciser que d’autres pays notamment \\nvoisins, semblent plus souples dans le \\ntraitement des demandes en n’exigeant pas  \\nénormément de pièces à l’appui de la demande. \\nC’est notamment le cas de l’Algérie \\n15 . \\n \\n                                                 \\n15  Les pièces nécessaires sont : \\n- La photocopie de l’extrait du registre de commerc e de la \\npersonne morale; \\n- Une copie des statuts de la société établie par a cte authentique; \\n- Une photocopie légalisée du passeport; \\n- cinq (5) photos d’identité réglementaires \\nArticle 3 du décret exécutif n° 97-38 du 18 janvier 1997 portant \\nmodalités d’attribution de la carte de commerçant a ux \\nreprésentants étrangers des sociétés commerciales \\n \\n b. Instruction et examen de la demande \\n \\nUne fois la demande déposée et les pièces \\njustificatives présentées. La demande est \\ntransmise à une Commission spéciale qui \\nstatue sur les demandes et les suites à leur \\ndonner. \\n \\nL’article 4 de l’arrêté du 14 septembre 1961 \\nrelatif à la carte de commerçant et aux \\nmodalités d’agrément pour l’exercice de \\ncertaines activités commerciales prévoit qu’une \\ncommission consultative émette ses avis sur \\ntoute demande relative à l’obtention de la carte \\nde commerçant. \\n \\nCette commission est composée de : \\n \\n- 3 membres représentant le secrétariat d’Etat \\nau Plan et aux Finances, \\n- 1 représentant du Secrétariat d’Etat aux \\naffaires étrangères, \\n- 1 représentant du Secrétariat d’Etat à \\nl’intérieur, \\n- 1 représentant du Secrétariat d’Etat à \\nl’industrie et aux transports, \\n- 1 représentant de la Banque Centrale de \\nTunisie, \\n \\nEt elle se réunit sur convocation de son \\nprésident au moins une fois par mois. \\n \\nDe par sa formation, la Commission est \\ncompétente pour l’examen de la demande. En \\neffet le fait qu’il y ait des représentants de \\nplusieurs ministères  et de la banque centrale, \\nfait qu’elle est à même de maîtriser les divers \\néléments du dossier. \\n \\nB. Le renouvellement de la carte  \\n \\nLa durée de validité de la carte de commerçant \\nest de 1 à 5 ans renouvelable \\n16 . Elle est de 2 \\nans renouvelables pour la même durée en \\nAlgérie \\n17 .  \\n \\nLa demande de prorogation doit être faite deux \\nmois avant l’expiration de validité de la première \\ncarte et elle est subordonnée à la présentation \\npar l’intéressé d’un duplicata de l’extrait du \\nregistre de commerce en cours de validité. \\n \\nLa loi tunisienne prévoit simplement que la \\ncarte est délivrée pour une durée de 5 ans \\nsusceptible de renouvellement, sans aucune \\nautre indication quant aux modalités de \\nrenouvellement ou de refus de renouvellement. \\n                                                 \\n16  Article 6 de l’Arrêté du Secrétaire d’Etat au Plan  et aux \\nFinances du 14 septembre 1961, relatif à la carte d e commerçant \\net aux modalités d’agrément pour l’exercice de cert aines activités \\ncommerciales. \\n17  Article 4 du décret exécutif n° 97-38 du 18 janvie r 1997 \\nportant modalités d’attribution de la carte de comm erçant aux \\nreprésentants étrangers des sociétés commerciales ', start_char_idx=None, end_char_idx=None, text_template='{metadata_str}\\n\\n{content}', metadata_template='{key}: {value}', metadata_seperator='\\n'),\n",
              " Document(id_='1ab5f9b8-e93c-4c63-82dc-758c95361ac7', embedding=None, metadata={'page_label': '6', 'file_name': 'L_exercice_du_commerce_par_des_etrangers_en_Tunisie.pdf', 'file_path': '/content/data/L_exercice_du_commerce_par_des_etrangers_en_Tunisie.pdf', 'file_type': 'application/pdf', 'file_size': 121197, 'creation_date': '2024-12-28', 'last_modified_date': '2024-12-28', 'last_accessed_date': '2024-12-28'}, excluded_embed_metadata_keys=['file_name', 'file_type', 'file_size', 'creation_date', 'last_modified_date', 'last_accessed_date'], excluded_llm_metadata_keys=['file_name', 'file_type', 'file_size', 'creation_date', 'last_modified_date', 'last_accessed_date'], relationships={}, text=' 6  \\nCeci dit, et en l’absence d’indications, le \\nrenouvellement serait donc soumis aux mêmes \\nconditions que la procédure initiale. \\n \\nLa loi algérienne semble être plus explicite, \\ndans le sens ou elle indique clairement les \\nformalités et les procédures de renouvellement \\nde la carte. \\n \\nC. Recours contre les décisions de refus ou \\nde retrait de la carte \\n \\nLa loi tunisienne ne prévoit pas expressément \\nles voies de recours en matière de décisions \\nrelatives à la carte de commerçant. Ceci dit, le \\nrecours étant contre une décision \\nadministrative il est du ressort des tribunaux de \\nl’ordre administratif \\n18 . \\n \\nLa jurisprudence administrative française avait \\ndéjà sanctionné l’administration pour défaut de \\nmotif. Le Conseil d’Etat Français avait maintes \\nfois sanctionné le refus de l’administration \\nfrançaise de délivré la carte de commerçant \\nétranger pour des motifs tirés de l’absence \\nd’expérience professionnelle par exemple. Ainsi \\ndans une décision en date du 10 juillet 1987, le \\nconseil d’Etat français avait décidé que : \\n \\n« …eu égard à la faible importance du fonds de \\ncommerce que M. Abarchih se proposait \\nd’exploiter, le motif retenu par le commissaire de \\nla République des Hautes Seines est entaché \\nd’erreur de droit ; que, dés lors, M.  Abarchih est \\nfondé à soutenir que c’est à tort que, par le \\njugement attaqué, le tribunal administratif de \\nParis a rejeté sa demande tendant à l’annulation \\npour excès de pouvoir de la décision attaquée ; \\nDécide : \\nArticle 1 \\ner : Le jugement en date du 21 janvier \\n1986 du tribunal administratif de Paris et l’arrêté \\ndu Préfet, commissaire de la République du \\ndépartement des Hautes Seines, en date du 26 \\nmars 1968, sont annulés »\\n19  \\n \\nEn Tunisie, le Tribunal administratif n’a pas, à \\nnotre connaissance, eu à se prononcer sur de \\ntelles décisions. \\n \\nParagraphe second : Le contrôle et les \\nsanctions de l’exercice du commerce par les \\nétrangers \\n \\nL’exercice du commerce par une entreprise \\nétrangère en méconnaissance de l’obligation de \\ndétention de la carte de commerçant est \\n                                                 \\n18  L’article 2 de la loi n°96-39 modifiant la loi du 1 e  juin 1972 \\nrelative au Tribunal administratif prévoit que «  l e tribunal \\nadministratif statue avec ses différents organes ju ridictionnels sur \\ntous les litiges à caractère administratif à l’exce ption de ceux qui \\nsont attribués à d’autres juridictions par une loi spéciale » \\n19  Actualité juridique, Droit administratif, 20 octob re 1987, p. \\n608. \\npassible de sanctions administratives et \\npénales.  \\n \\nEn effet, l’article 15 du décret-loi tunisien de \\n1961, prévoit que « Toute personne qui aura \\nsciemment contribué à détourner les dispositions \\ndu présent décret-loi en se prêtant fictivement à \\ncertaines opérations, sera condamné à une peine \\nd’emprisonnement de 3 mois à 5 ans.  \\nDans le cas des personnes morales, cette peine \\nest encourue par ceux qui, au sein de \\nl’entreprise, ont la qualité de commerçant. \\nL’article 53 du code pénal n’est pas applicable \\naux infractions prévues par le présent article . » \\n \\nLe décret- loi prévoit aussi une sanction \\nadministrative en l’occurrence le retrait de la \\ncarte de commerçant.  \\n \\nCette décision de retrait peut être prise suite à \\nune infraction à la réglementation des prix, de \\nchange ainsi que toute autres infractions en \\nmatière de législation économique, fiscale ou \\nsociale. \\n \\nLes dispositions de cet article sont larges, elles \\nenglobent tout acte de non respect des \\ndispositions du décret-loi. Elles couvrent donc \\nnon seulement l’exercice du commerce sans \\ncarte mais au même titre, l’exercice avec une \\ncarte périmé, ou encore le fait d’avoir produit \\ndes informations inexactes ou de ne pas \\nrespecté la réglementation économique. \\n \\nEn droit comparé, les sanctions sont souvent \\nd’ordre administratif. En effet, la législation \\nalgérienne par exemple prévoit que l’étranger \\nqui aura donné de fausses déclarations en vue \\nde l’obtention de la carte ou qui exerce une \\nactivité qui n’est pas mentionné sur la carte ou \\nencore qui exerce le commerce hors du champ \\nterritorial de la carte …, peut être expulsé \\n20 , en \\nplus du refus de renouvellement de sa carte. \\n \\nHormis les obligations légales d’obtention d’un \\nagrément ou de la carte de commerçant, et une \\nfois ces autorisations obtenus, l’entreprise \\ncommerciale étrangère doit respecter les \\nformalités de la publicité légale en \\ns’immatriculant au registre de commerce. \\n \\nL’exercice du commerce par des étrangers reste \\nune entreprise difficile en Tunisie. Outre la \\ndifficulté d’obtenir les autorisations nécessaires, \\ns’ajoute les sanctions souvent sévères et \\ndépourvus d’un réel et efficace contrôle des \\nautorités judiciaires. \\n                                                 \\n20  Article 15 de l’arrêté ministériel du 17 mai 1977 p ortant \\napplication des dispositions du décret n°75-111 du 26 septembre \\n1975 relatif aux professions commerciales, industri elles, \\nartisanales et libérales exercées par les étrangers  sur le territoire \\nnationale.  ', start_char_idx=None, end_char_idx=None, text_template='{metadata_str}\\n\\n{content}', metadata_template='{key}: {value}', metadata_seperator='\\n')]"
            ]
          },
          "metadata": {},
          "execution_count": 8
        }
      ]
    },
    {
      "cell_type": "markdown",
      "source": [
        "# 3. Prompt Definition"
      ],
      "metadata": {
        "id": "SHtQjuH60aU_"
      }
    },
    {
      "cell_type": "code",
      "source": [
        "system_prompt = \"\"\"\n",
        "Vous êtes un assistant juridique expert en droit commercial. Votre objectif est de répondre\n",
        "de manière précise, claire et complète aux questions concernant les lois et réglementations\n",
        "commerciales, en tenant compte des informations disponibles.\n",
        "\"\"\"\n",
        "\n",
        "query_wrapper_prompt = SimpleInputPrompt(\n",
        "    \"<|UTILISATEUR|>{query_str}<|ASSISTANT|>Veuillez fournir une réponse précise et complète :\"\n",
        ")"
      ],
      "metadata": {
        "id": "tfi1DtF2tUY5"
      },
      "execution_count": 9,
      "outputs": []
    },
    {
      "cell_type": "markdown",
      "source": [
        "# 4. Model Configuration"
      ],
      "metadata": {
        "id": "rt9JUn7Z0gL2"
      }
    },
    {
      "cell_type": "markdown",
      "source": [
        "Login to Hugging Face CLI"
      ],
      "metadata": {
        "id": "jlQK2mpn0iAe"
      }
    },
    {
      "cell_type": "code",
      "source": [
        "!huggingface-cli login"
      ],
      "metadata": {
        "colab": {
          "base_uri": "https://localhost:8080/"
        },
        "id": "MkgLAz6Tw0Dm",
        "outputId": "7b815dab-8307-4966-9757-8670117e5a1a"
      },
      "execution_count": 10,
      "outputs": [
        {
          "output_type": "stream",
          "name": "stdout",
          "text": [
            "\n",
            "    _|    _|  _|    _|    _|_|_|    _|_|_|  _|_|_|  _|      _|    _|_|_|      _|_|_|_|    _|_|      _|_|_|  _|_|_|_|\n",
            "    _|    _|  _|    _|  _|        _|          _|    _|_|    _|  _|            _|        _|    _|  _|        _|\n",
            "    _|_|_|_|  _|    _|  _|  _|_|  _|  _|_|    _|    _|  _|  _|  _|  _|_|      _|_|_|    _|_|_|_|  _|        _|_|_|\n",
            "    _|    _|  _|    _|  _|    _|  _|    _|    _|    _|    _|_|  _|    _|      _|        _|    _|  _|        _|\n",
            "    _|    _|    _|_|      _|_|_|    _|_|_|  _|_|_|  _|      _|    _|_|_|      _|        _|    _|    _|_|_|  _|_|_|_|\n",
            "\n",
            "    A token is already saved on your machine. Run `huggingface-cli whoami` to get more information or `huggingface-cli logout` if you want to log out.\n",
            "    Setting a new token will erase the existing one.\n",
            "    To log in, `huggingface_hub` requires a token generated from https://huggingface.co/settings/tokens .\n",
            "Enter your token (input will not be visible): \n",
            "Add token as git credential? (Y/n) Y\n",
            "Token is valid (permission: fineGrained).\n",
            "The token `simple_rag` has been saved to /root/.cache/huggingface/stored_tokens\n",
            "\u001b[1m\u001b[31mCannot authenticate through git-credential as no helper is defined on your machine.\n",
            "You might have to re-authenticate when pushing to the Hugging Face Hub.\n",
            "Run the following command in your terminal in case you want to set the 'store' credential helper as default.\n",
            "\n",
            "git config --global credential.helper store\n",
            "\n",
            "Read https://git-scm.com/book/en/v2/Git-Tools-Credential-Storage for more details.\u001b[0m\n",
            "Token has not been saved to git credential helper.\n",
            "Your token has been saved to /root/.cache/huggingface/token\n",
            "Login successful.\n",
            "The current active token is: `simple_rag`\n"
          ]
        }
      ]
    },
    {
      "cell_type": "code",
      "source": [
        "from transformers import BitsAndBytesConfig\n",
        "import torch\n",
        "\n",
        "# Quantization configuration\n",
        "quantization_config = BitsAndBytesConfig(\n",
        "    load_in_8bit=True,  # Enable 8-bit quantization\n",
        "    llm_int8_enable_fp32_cpu_offload=True  # Allow offloading to CPU for FP32 layers\n",
        ")\n",
        "\n",
        "# Load Mistral model with updated configuration\n",
        "llm = HuggingFaceLLM(\n",
        "    context_window=4096,\n",
        "    max_new_tokens=256,\n",
        "    generate_kwargs={\n",
        "        \"temperature\": 0.7,\n",
        "        \"top_p\": 0.9,\n",
        "        \"do_sample\": True,\n",
        "        \"repetition_penalty\": 1.2,\n",
        "    },\n",
        "    system_prompt=system_prompt,\n",
        "    query_wrapper_prompt=query_wrapper_prompt,\n",
        "    tokenizer_name=\"mistralai/Mistral-7B-v0.1\",\n",
        "    model_name=\"mistralai/Mistral-7B-v0.1\",\n",
        "    device_map=\"auto\",\n",
        "    model_kwargs={\n",
        "        \"torch_dtype\": torch.float16,\n",
        "        \"quantization_config\": quantization_config  # Updated quantization config\n",
        "    }\n",
        ")"
      ],
      "metadata": {
        "colab": {
          "base_uri": "https://localhost:8080/",
          "height": 173,
          "referenced_widgets": [
            "84161b3edd6e4b369d0cdcb5c7c95383",
            "99fc1f6ac10c47e097e4b533c91888f7",
            "4e7bce7cc96d42329b41c18f478edcdb",
            "461fa376d9a64c84b0acfa9160335e41",
            "fcd422f14b7b4217b01fc78a53b07415",
            "49e90e1d6b324962b9d2548c1fcfd664",
            "c399eeb8934a4cbf828701ec30f2ac30",
            "159ae41f77964601a99f36d44a15466b",
            "8c3c912fe95244fbb7ff34f0c3defedd",
            "ddec3e129297433e98e5954065fe76c6",
            "4cf851ee009a4ee19613ebb170d15018"
          ]
        },
        "id": "PDo65Rccw6qC",
        "outputId": "988e06aa-70d7-4932-f1ed-e64c798f3317"
      },
      "execution_count": 11,
      "outputs": [
        {
          "output_type": "stream",
          "name": "stderr",
          "text": [
            "/usr/local/lib/python3.10/dist-packages/huggingface_hub/utils/_auth.py:94: UserWarning: \n",
            "The secret `HF_TOKEN` does not exist in your Colab secrets.\n",
            "To authenticate with the Hugging Face Hub, create a token in your settings tab (https://huggingface.co/settings/tokens), set it as secret in your Google Colab and restart your session.\n",
            "You will be able to reuse this secret in all of your notebooks.\n",
            "Please note that authentication is recommended but still optional to access public models or datasets.\n",
            "  warnings.warn(\n"
          ]
        },
        {
          "output_type": "display_data",
          "data": {
            "text/plain": [
              "Loading checkpoint shards:   0%|          | 0/2 [00:00<?, ?it/s]"
            ],
            "application/vnd.jupyter.widget-view+json": {
              "version_major": 2,
              "version_minor": 0,
              "model_id": "84161b3edd6e4b369d0cdcb5c7c95383"
            }
          },
          "metadata": {}
        }
      ]
    },
    {
      "cell_type": "markdown",
      "source": [
        "# 5. Embedding Model Setup"
      ],
      "metadata": {
        "id": "shc8195Y0rKW"
      }
    },
    {
      "cell_type": "code",
      "source": [
        "from langchain.embeddings.huggingface import HuggingFaceBgeEmbeddings\n",
        "from llama_index import ServiceContext\n",
        "from llama_index.embeddings import LangchainEmbedding"
      ],
      "metadata": {
        "id": "ZdzOdLet0qSp"
      },
      "execution_count": 13,
      "outputs": []
    },
    {
      "cell_type": "markdown",
      "source": [
        "**Initialize embedding model**"
      ],
      "metadata": {
        "id": "RWXTiaGr1NvG"
      }
    },
    {
      "cell_type": "code",
      "source": [
        "embed_model = LangchainEmbedding(\n",
        "    HuggingFaceBgeEmbeddings(model_name=\"sentence-transformers/all-mpnet-base-v2\")\n",
        ")"
      ],
      "metadata": {
        "colab": {
          "base_uri": "https://localhost:8080/"
        },
        "id": "Hz7BPj-V1_Hh",
        "outputId": "5168c1d2-071e-498b-a83e-8489148790db"
      },
      "execution_count": 14,
      "outputs": [
        {
          "output_type": "stream",
          "name": "stderr",
          "text": [
            "<ipython-input-14-55ed397f5d34>:2: LangChainDeprecationWarning: The class `HuggingFaceBgeEmbeddings` was deprecated in LangChain 0.2.2 and will be removed in 1.0. An updated version of the class exists in the :class:`~langchain-huggingface package and should be used instead. To use it run `pip install -U :class:`~langchain-huggingface` and import as `from :class:`~langchain_huggingface import HuggingFaceEmbeddings``.\n",
            "  HuggingFaceBgeEmbeddings(model_name=\"sentence-transformers/all-mpnet-base-v2\")\n"
          ]
        }
      ]
    },
    {
      "cell_type": "markdown",
      "source": [
        "# 6. Service Context and Index Creation"
      ],
      "metadata": {
        "id": "ETqUG-Gk1fSH"
      }
    },
    {
      "cell_type": "code",
      "source": [
        "service_context = ServiceContext.from_defaults(\n",
        "    chunk_size = 1024,\n",
        "    llm = llm,\n",
        "    embed_model = embed_model\n",
        ")"
      ],
      "metadata": {
        "id": "8AcuXfeE2QZq"
      },
      "execution_count": 15,
      "outputs": []
    },
    {
      "cell_type": "markdown",
      "source": [
        "**Build index from documents**"
      ],
      "metadata": {
        "id": "khDXgeQ-1mI4"
      }
    },
    {
      "cell_type": "code",
      "source": [
        "index = VectorStoreIndex.from_documents(documents , service_context=service_context)"
      ],
      "metadata": {
        "id": "GvbsuNJ32832"
      },
      "execution_count": 16,
      "outputs": []
    },
    {
      "cell_type": "markdown",
      "source": [
        "# 7. Query Execution"
      ],
      "metadata": {
        "id": "rqbyb-Fb1ro3"
      }
    },
    {
      "cell_type": "code",
      "source": [
        "query_engine = index.as_query_engine()"
      ],
      "metadata": {
        "id": "JBkRmGVU3tts"
      },
      "execution_count": 17,
      "outputs": []
    },
    {
      "cell_type": "code",
      "source": [
        "query = \"c'est quoi Les restrictions à l exercice du commerce par les étrangers  ?\"\n",
        "response = query_engine.query(query)\n",
        "print(response)"
      ],
      "metadata": {
        "colab": {
          "base_uri": "https://localhost:8080/"
        },
        "id": "rrJ6SXEs33op",
        "outputId": "00b83c84-a050-46c3-af9f-411c169625bb"
      },
      "execution_count": 18,
      "outputs": [
        {
          "output_type": "stream",
          "name": "stderr",
          "text": [
            "Setting `pad_token_id` to `eos_token_id`:2 for open-end generation.\n"
          ]
        },
        {
          "output_type": "stream",
          "name": "stdout",
          "text": [
            "\"Les restrictions à l’exercice du commerce par les étrangers sont variées selon le pays et peuvent inclure des limites sur le nombre d’entreprises que les étrangers peuvent détenir, des limitations sur les secteurs où ils peuvent travailler, ainsi que des exigences de capital minimum.\"\n"
          ]
        }
      ]
    }
  ]
}